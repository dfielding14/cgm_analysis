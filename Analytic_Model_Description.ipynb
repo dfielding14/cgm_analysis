{
 "cells": [
  {
   "cell_type": "markdown",
   "metadata": {},
   "source": [
    "# Analytic Models\n",
    "## Hydrostatic Equilibrium\n",
    "$\\frac{d P}{dr} = - \\rho g = - \\frac{v_c^2}{r}$\n",
    "$\\frac{d \\log P}{d \\log r} = \\frac{d \\log T}{d \\log r} + \\frac{d \\log \\rho}{d \\log r}=- \\gamma \\frac{v_c^2}{c_s^2}$\n",
    "Choose $f_{\\rm cs}= \\frac{v_c^2}{c_s^2}$ to be a constant value, with a fiducial choice of 2. Which gives:\n",
    "$\\frac{d \\log \\rho}{d \\log r}=- \\gamma f_{\\rm cs} - \\frac{d \\log v_c^2}{d \\log r}$\n",
    "So the density profile is:\n",
    "$\\rho(r) = \\rho_0 \\left( \\frac{v_c(r)}{v_c(r_0)} \\right)^{-2} \\left( \\frac{r}{r_0} \\right)^{-\\gamma f_{\\rm cs}}$\n",
    "Choose density normalization to give desired CGM mass fraction $f_{\\rm CGM} = \\frac{M_{\\rm CGM}}{f_{\\rm b} M_{\\rm halo}}$, where $M_{\\rm CGM}$ is the mass between $0.1 r_{\\rm vir}$ and $r_{\\rm vir}$.\n",
    "## Hydrostatic Equilibrium with turbulence \n",
    "$P\\rightarrow P + \\rho \\delta v^2$. Where we assume there is a constant turbulent mach number $\\mathcal{M} = \\frac{\\delta v}{c_s}$. So the solution is the same as pure HSE but with $\\gamma \\rightarrow \\frac{\\gamma}{1+\\mathcal{M}^2}$. Which in practice means that for larger mach numbers you get flatter pressure profiles.\n",
    "\n",
    "## Hydrostatic Equilibrium with rotation \n",
    "### $\\hat{r}$:\n",
    "$-\\frac{v_{\\phi}^2}{r} = -\\frac{1}{\\rho} \\frac{d P}{dr} - \\frac{v_{c}^2}{r}$\n",
    "### $\\hat{\\theta}$:\n",
    "$-\\frac{v_{\\phi}^2 \\cot\\theta}{r} = -\\frac{1}{\\rho r}  \\frac{d P}{dr}$\n",
    "\n",
    "Choose $f_{\\rm cs}= \\frac{v_c^2}{c_s^2}$ to be a constant value, with a fiducial choice of 2. \n",
    "\n",
    "Choose $v_\\phi = \\frac{\\lambda v_c(r_{\\rm vir})}{r \\sin \\theta}$ for $r \\sin \\theta > r_{\\rm circ}$ and $v_\\phi = \\lambda v_c(r_{\\rm vir})$ for $r\\leq r_{\\rm circ}$\n",
    "\n",
    "## Cooling Flow\n",
    "steady state equations\n",
    "$\\dot{M} = 4 \\pi r^2 \\rho v_r$ $\\Rightarrow$  $\\frac{d \\log v_r}{d \\log r} = -2 - \\frac{d \\log \\rho}{d \\log r}$\n",
    "$\\frac{1}{2} \\frac{d v_r^2}{dr} = - \\frac{1}{\\rho} \\frac{d P}{dr} - \\frac{v_c^2}{r}$\n",
    "$v_r \\frac{d \\log K}{d r} = - \\frac{1}{t_{\\rm cool}}$\n",
    "Combine to get:\n",
    "$\\frac{d \\log v_r}{d \\log r} \\left( \\mathcal{M}^2 - 1\\right) = 2 - \\frac{v_c^2}{c_s^2} - \\frac{r/v_r}{\\gamma t_{\\rm cool}}$\n",
    "Choose some inner radius where the flow becomes supersonic, which gives velocity normalization, then integrate outwards. \n",
    "\n",
    "## Precipitation\n",
    "$t_{\\rm cool} = \\xi t_{\\rm ff}$  $\\Rightarrow$  $\\frac{3 k_B T}{2 n \\Lambda(T)} = \\frac{\\xi r}{v_c}$  $\\Rightarrow$  $\\frac{d \\log T}{d \\log r} = \\frac{d \\log \\rho}{d \\log r} + \\frac{d \\log \\Lambda}{d \\log T}  \\frac{d \\log T}{d \\log r}- \\frac{d \\log v_c}{d \\log r} -1$\n",
    "\n"
   ]
  },
  {
   "cell_type": "code",
   "execution_count": null,
   "metadata": {},
   "outputs": [],
   "source": []
  }
 ],
 "metadata": {
  "kernelspec": {
   "display_name": "Python 2",
   "language": "python",
   "name": "python2"
  },
  "language_info": {
   "codemirror_mode": {
    "name": "ipython",
    "version": 2
   },
   "file_extension": ".py",
   "mimetype": "text/x-python",
   "name": "python",
   "nbconvert_exporter": "python",
   "pygments_lexer": "ipython2",
   "version": "2.7.15"
  }
 },
 "nbformat": 4,
 "nbformat_minor": 2
}
